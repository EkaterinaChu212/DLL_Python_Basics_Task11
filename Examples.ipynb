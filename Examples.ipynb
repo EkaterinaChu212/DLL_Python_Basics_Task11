{
  "nbformat": 4,
  "nbformat_minor": 0,
  "metadata": {
    "colab": {
      "provenance": []
    },
    "kernelspec": {
      "name": "python3",
      "display_name": "Python 3"
    },
    "language_info": {
      "name": "python"
    }
  },
  "cells": [
    {
      "cell_type": "code",
      "source": [
        "# Загружаем класс TextVectorizer\n",
        "from text_vectorizer import TextVectorizer\n",
        "\n",
        "docs = [\n",
        "    \"Я люблю программирование и изучать новое\",\n",
        "    \"Программирование это интересно и полезно\",\n",
        "    \"Изучать Python особенно приятно\"\n",
        "]\n",
        "\n",
        "vectorizer = TextVectorizer(docs)\n",
        "\n",
        "word = \"программирование\"\n",
        "doc_index = 0\n",
        "\n",
        "print(f\"TF('{word}', doc {doc_index}):\", vectorizer.get_tf(word, doc_index))\n",
        "print(f\"IDF('{word}'):\", vectorizer.get_idf(word))\n",
        "print(f\"TF-IDF('{word}', doc {doc_index}):\", vectorizer.get_tf_idf(word, doc_index))\n",
        "print(f\"TF-IDF('и', doc {doc_index}, ignore_stopwords=False):\",\n",
        "      vectorizer.get_tf_idf(\"и\", doc_index, ignore_stopwords=False))\n",
        "print(f\"TF-IDF('и', doc {doc_index}, ignore_stopwords=True):\",\n",
        "      vectorizer.get_tf_idf(\"и\", doc_index, ignore_stopwords=True))\n",
        "\n",
        "# ------"
      ],
      "metadata": {
        "id": "jLJKW43H4x3u"
      },
      "execution_count": null,
      "outputs": []
    },
    {
      "cell_type": "code",
      "execution_count": 1,
      "metadata": {
        "colab": {
          "base_uri": "https://localhost:8080/",
          "height": 403
        },
        "id": "8xwGQk9H4ky5",
        "outputId": "e620a565-5f7e-4498-ab5f-7584800ced83"
      },
      "outputs": [
        {
          "output_type": "error",
          "ename": "ModuleNotFoundError",
          "evalue": "No module named 'text_vectorizer'",
          "traceback": [
            "\u001b[0;31m---------------------------------------------------------------------------\u001b[0m",
            "\u001b[0;31mModuleNotFoundError\u001b[0m                       Traceback (most recent call last)",
            "\u001b[0;32m<ipython-input-1-394542283>\u001b[0m in \u001b[0;36m<cell line: 0>\u001b[0;34m()\u001b[0m\n\u001b[1;32m      1\u001b[0m \u001b[0;31m# Загружаем класс TextVectorizer\u001b[0m\u001b[0;34m\u001b[0m\u001b[0;34m\u001b[0m\u001b[0m\n\u001b[0;32m----> 2\u001b[0;31m \u001b[0;32mfrom\u001b[0m \u001b[0mtext_vectorizer\u001b[0m \u001b[0;32mimport\u001b[0m \u001b[0mTextVectorizer\u001b[0m\u001b[0;34m\u001b[0m\u001b[0;34m\u001b[0m\u001b[0m\n\u001b[0m\u001b[1;32m      3\u001b[0m \u001b[0;34m\u001b[0m\u001b[0m\n\u001b[1;32m      4\u001b[0m docs = [\n\u001b[1;32m      5\u001b[0m     \u001b[0;34m\"Я люблю программирование и изучать новое\"\u001b[0m\u001b[0;34m,\u001b[0m\u001b[0;34m\u001b[0m\u001b[0;34m\u001b[0m\u001b[0m\n",
            "\u001b[0;31mModuleNotFoundError\u001b[0m: No module named 'text_vectorizer'",
            "",
            "\u001b[0;31m---------------------------------------------------------------------------\u001b[0;32m\nNOTE: If your import is failing due to a missing package, you can\nmanually install dependencies using either !pip or !apt.\n\nTo view examples of installing some common dependencies, click the\n\"Open Examples\" button below.\n\u001b[0;31m---------------------------------------------------------------------------\u001b[0m\n"
          ],
          "errorDetails": {
            "actions": [
              {
                "action": "open_url",
                "actionText": "Open Examples",
                "url": "/notebooks/snippets/importing_libraries.ipynb"
              }
            ]
          }
        }
      ],
      "source": [
        "# Загружаем функции из ulysses_analyzer\n",
        "from ulysses_analyzer import load_ulysses_chapter, clean_and_count_words, find_word_context\n",
        "\n",
        "text = load_ulysses_chapter()\n",
        "\n",
        "if text:\n",
        "    print(\"\\nПервые 500 символов текста:\")\n",
        "    print(text[:500])\n",
        "\n",
        "    counts = clean_and_count_words(text)\n",
        "    print(\"\\nТоп-20 слов по частоте:\")\n",
        "    for word, count in counts.most_common(20):\n",
        "        print(f\"{word}: {count}\")\n",
        "\n",
        "    find_word_context(text, \"love\", left_len=5, right_len=5, cut_length=True)\n",
        "else:\n",
        "    print(\"Не удалось загрузить текст.\")"
      ]
    }
  ]
}